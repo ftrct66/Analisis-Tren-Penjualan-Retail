{
  "nbformat": 4,
  "nbformat_minor": 0,
  "metadata": {
    "colab": {
      "provenance": []
    },
    "kernelspec": {
      "name": "python3",
      "display_name": "Python 3"
    },
    "language_info": {
      "name": "python"
    }
  },
  "cells": [
    {
      "cell_type": "markdown",
      "source": [
        "## Introduction\n",
        "\n",
        "Hallo. Perkenalkan, saya Fitri Octaviani. Di sini, saya ingin membuat overview mengenai dataset yang telah diberikan oleh Human Resource dari Torch. Dalam pemrograman python ini, saya hanya memberikan gambaran mengenai dataset, seperti apakah terdapat nilai yang hilan (missing value), tipe data yang tidak sesuai, serta adanya data duplikat. Selebihnya, data akan diolah menggunakan Query Power Bi."
      ],
      "metadata": {
        "id": "A_-MLiV2fRcD"
      }
    },
    {
      "cell_type": "markdown",
      "source": [
        "## Import Library\n",
        "\n",
        "> Pada section ini hanya berisi library yang digunakan dalam project dan mengecek versi dari library"
      ],
      "metadata": {
        "id": "pTew6oo9hZyv"
      }
    },
    {
      "cell_type": "code",
      "execution_count": null,
      "metadata": {
        "id": "i4by_c0rdTZv"
      },
      "outputs": [],
      "source": [
        "# Data Loading\n",
        "import pandas as pd\n",
        "import numpy as np"
      ]
    },
    {
      "cell_type": "code",
      "source": [
        "# Cek versi library\n",
        "print ('Pandas version : ', (pd.__version__))\n",
        "print ('Numpy version : ', (np.__version__))"
      ],
      "metadata": {
        "colab": {
          "base_uri": "https://localhost:8080/"
        },
        "id": "JcVQNpu-h4eg",
        "outputId": "da78ed7d-5a27-491e-f86e-28f55cd17fbf"
      },
      "execution_count": null,
      "outputs": [
        {
          "output_type": "stream",
          "name": "stdout",
          "text": [
            "Pandas version :  1.5.3\n",
            "Numpy version :  1.23.5\n"
          ]
        }
      ]
    },
    {
      "cell_type": "markdown",
      "source": [
        "## Data Loading\n",
        "\n",
        "> Pada section ini berisi proses penyiapan data sebelum dilakukan eksplorasi data lebih lanjut"
      ],
      "metadata": {
        "id": "npZPzr9fh7tA"
      }
    },
    {
      "cell_type": "code",
      "source": [
        "encodings = ['utf-8', 'latin1', 'ISO-8859-1']\n",
        "\n",
        "for encoding in encodings:\n",
        "    try:\n",
        "        data = pd.read_csv('/content/sample_data/online_shoppers_1.csv', encoding=encoding)\n",
        "        break\n",
        "    except UnicodeDecodeError:\n",
        "        continue"
      ],
      "metadata": {
        "id": "3vsrT_mnh9gf"
      },
      "execution_count": null,
      "outputs": []
    },
    {
      "cell_type": "code",
      "source": [
        "# Menampilkan 5 baris teratas dari dataset\n",
        "data.head(5)"
      ],
      "metadata": {
        "colab": {
          "base_uri": "https://localhost:8080/",
          "height": 206
        },
        "id": "zCQAc2IziE_Z",
        "outputId": "76467eed-d463-4015-8845-7accc31c92b8"
      },
      "execution_count": null,
      "outputs": [
        {
          "output_type": "execute_result",
          "data": {
            "text/plain": [
              "  InvoiceNo StockCode                          Description  Quantity  \\\n",
              "0    536365    85123A   WHITE HANGING HEART T-LIGHT HOLDER         6   \n",
              "1    536365     71053                  WHITE METAL LANTERN         6   \n",
              "2    536365    84406B       CREAM CUPID HEARTS COAT HANGER         8   \n",
              "3    536365    84029G  KNITTED UNION FLAG HOT WATER BOTTLE         6   \n",
              "4    536365    84029E       RED WOOLLY HOTTIE WHITE HEART.         6   \n",
              "\n",
              "      InvoiceDate  UnitPrice  CustomerID         Country  \n",
              "0  12/1/2010 8:26       2.55     17850.0  United Kingdom  \n",
              "1  12/1/2010 8:26       3.39     17850.0  United Kingdom  \n",
              "2  12/1/2010 8:26       2.75     17850.0  United Kingdom  \n",
              "3  12/1/2010 8:26       3.39     17850.0  United Kingdom  \n",
              "4  12/1/2010 8:26       3.39     17850.0  United Kingdom  "
            ],
            "text/html": [
              "\n",
              "  <div id=\"df-455b3a2d-24c3-4638-9a21-a0e8e693bcf0\" class=\"colab-df-container\">\n",
              "    <div>\n",
              "<style scoped>\n",
              "    .dataframe tbody tr th:only-of-type {\n",
              "        vertical-align: middle;\n",
              "    }\n",
              "\n",
              "    .dataframe tbody tr th {\n",
              "        vertical-align: top;\n",
              "    }\n",
              "\n",
              "    .dataframe thead th {\n",
              "        text-align: right;\n",
              "    }\n",
              "</style>\n",
              "<table border=\"1\" class=\"dataframe\">\n",
              "  <thead>\n",
              "    <tr style=\"text-align: right;\">\n",
              "      <th></th>\n",
              "      <th>InvoiceNo</th>\n",
              "      <th>StockCode</th>\n",
              "      <th>Description</th>\n",
              "      <th>Quantity</th>\n",
              "      <th>InvoiceDate</th>\n",
              "      <th>UnitPrice</th>\n",
              "      <th>CustomerID</th>\n",
              "      <th>Country</th>\n",
              "    </tr>\n",
              "  </thead>\n",
              "  <tbody>\n",
              "    <tr>\n",
              "      <th>0</th>\n",
              "      <td>536365</td>\n",
              "      <td>85123A</td>\n",
              "      <td>WHITE HANGING HEART T-LIGHT HOLDER</td>\n",
              "      <td>6</td>\n",
              "      <td>12/1/2010 8:26</td>\n",
              "      <td>2.55</td>\n",
              "      <td>17850.0</td>\n",
              "      <td>United Kingdom</td>\n",
              "    </tr>\n",
              "    <tr>\n",
              "      <th>1</th>\n",
              "      <td>536365</td>\n",
              "      <td>71053</td>\n",
              "      <td>WHITE METAL LANTERN</td>\n",
              "      <td>6</td>\n",
              "      <td>12/1/2010 8:26</td>\n",
              "      <td>3.39</td>\n",
              "      <td>17850.0</td>\n",
              "      <td>United Kingdom</td>\n",
              "    </tr>\n",
              "    <tr>\n",
              "      <th>2</th>\n",
              "      <td>536365</td>\n",
              "      <td>84406B</td>\n",
              "      <td>CREAM CUPID HEARTS COAT HANGER</td>\n",
              "      <td>8</td>\n",
              "      <td>12/1/2010 8:26</td>\n",
              "      <td>2.75</td>\n",
              "      <td>17850.0</td>\n",
              "      <td>United Kingdom</td>\n",
              "    </tr>\n",
              "    <tr>\n",
              "      <th>3</th>\n",
              "      <td>536365</td>\n",
              "      <td>84029G</td>\n",
              "      <td>KNITTED UNION FLAG HOT WATER BOTTLE</td>\n",
              "      <td>6</td>\n",
              "      <td>12/1/2010 8:26</td>\n",
              "      <td>3.39</td>\n",
              "      <td>17850.0</td>\n",
              "      <td>United Kingdom</td>\n",
              "    </tr>\n",
              "    <tr>\n",
              "      <th>4</th>\n",
              "      <td>536365</td>\n",
              "      <td>84029E</td>\n",
              "      <td>RED WOOLLY HOTTIE WHITE HEART.</td>\n",
              "      <td>6</td>\n",
              "      <td>12/1/2010 8:26</td>\n",
              "      <td>3.39</td>\n",
              "      <td>17850.0</td>\n",
              "      <td>United Kingdom</td>\n",
              "    </tr>\n",
              "  </tbody>\n",
              "</table>\n",
              "</div>\n",
              "    <div class=\"colab-df-buttons\">\n",
              "\n",
              "  <div class=\"colab-df-container\">\n",
              "    <button class=\"colab-df-convert\" onclick=\"convertToInteractive('df-455b3a2d-24c3-4638-9a21-a0e8e693bcf0')\"\n",
              "            title=\"Convert this dataframe to an interactive table.\"\n",
              "            style=\"display:none;\">\n",
              "\n",
              "  <svg xmlns=\"http://www.w3.org/2000/svg\" height=\"24px\" viewBox=\"0 -960 960 960\">\n",
              "    <path d=\"M120-120v-720h720v720H120Zm60-500h600v-160H180v160Zm220 220h160v-160H400v160Zm0 220h160v-160H400v160ZM180-400h160v-160H180v160Zm440 0h160v-160H620v160ZM180-180h160v-160H180v160Zm440 0h160v-160H620v160Z\"/>\n",
              "  </svg>\n",
              "    </button>\n",
              "\n",
              "  <style>\n",
              "    .colab-df-container {\n",
              "      display:flex;\n",
              "      gap: 12px;\n",
              "    }\n",
              "\n",
              "    .colab-df-convert {\n",
              "      background-color: #E8F0FE;\n",
              "      border: none;\n",
              "      border-radius: 50%;\n",
              "      cursor: pointer;\n",
              "      display: none;\n",
              "      fill: #1967D2;\n",
              "      height: 32px;\n",
              "      padding: 0 0 0 0;\n",
              "      width: 32px;\n",
              "    }\n",
              "\n",
              "    .colab-df-convert:hover {\n",
              "      background-color: #E2EBFA;\n",
              "      box-shadow: 0px 1px 2px rgba(60, 64, 67, 0.3), 0px 1px 3px 1px rgba(60, 64, 67, 0.15);\n",
              "      fill: #174EA6;\n",
              "    }\n",
              "\n",
              "    .colab-df-buttons div {\n",
              "      margin-bottom: 4px;\n",
              "    }\n",
              "\n",
              "    [theme=dark] .colab-df-convert {\n",
              "      background-color: #3B4455;\n",
              "      fill: #D2E3FC;\n",
              "    }\n",
              "\n",
              "    [theme=dark] .colab-df-convert:hover {\n",
              "      background-color: #434B5C;\n",
              "      box-shadow: 0px 1px 3px 1px rgba(0, 0, 0, 0.15);\n",
              "      filter: drop-shadow(0px 1px 2px rgba(0, 0, 0, 0.3));\n",
              "      fill: #FFFFFF;\n",
              "    }\n",
              "  </style>\n",
              "\n",
              "    <script>\n",
              "      const buttonEl =\n",
              "        document.querySelector('#df-455b3a2d-24c3-4638-9a21-a0e8e693bcf0 button.colab-df-convert');\n",
              "      buttonEl.style.display =\n",
              "        google.colab.kernel.accessAllowed ? 'block' : 'none';\n",
              "\n",
              "      async function convertToInteractive(key) {\n",
              "        const element = document.querySelector('#df-455b3a2d-24c3-4638-9a21-a0e8e693bcf0');\n",
              "        const dataTable =\n",
              "          await google.colab.kernel.invokeFunction('convertToInteractive',\n",
              "                                                    [key], {});\n",
              "        if (!dataTable) return;\n",
              "\n",
              "        const docLinkHtml = 'Like what you see? Visit the ' +\n",
              "          '<a target=\"_blank\" href=https://colab.research.google.com/notebooks/data_table.ipynb>data table notebook</a>'\n",
              "          + ' to learn more about interactive tables.';\n",
              "        element.innerHTML = '';\n",
              "        dataTable['output_type'] = 'display_data';\n",
              "        await google.colab.output.renderOutput(dataTable, element);\n",
              "        const docLink = document.createElement('div');\n",
              "        docLink.innerHTML = docLinkHtml;\n",
              "        element.appendChild(docLink);\n",
              "      }\n",
              "    </script>\n",
              "  </div>\n",
              "\n",
              "\n",
              "<div id=\"df-6d14c7e0-104d-481a-a01a-b12add5197dc\">\n",
              "  <button class=\"colab-df-quickchart\" onclick=\"quickchart('df-6d14c7e0-104d-481a-a01a-b12add5197dc')\"\n",
              "            title=\"Suggest charts.\"\n",
              "            style=\"display:none;\">\n",
              "\n",
              "<svg xmlns=\"http://www.w3.org/2000/svg\" height=\"24px\"viewBox=\"0 0 24 24\"\n",
              "     width=\"24px\">\n",
              "    <g>\n",
              "        <path d=\"M19 3H5c-1.1 0-2 .9-2 2v14c0 1.1.9 2 2 2h14c1.1 0 2-.9 2-2V5c0-1.1-.9-2-2-2zM9 17H7v-7h2v7zm4 0h-2V7h2v10zm4 0h-2v-4h2v4z\"/>\n",
              "    </g>\n",
              "</svg>\n",
              "  </button>\n",
              "\n",
              "<style>\n",
              "  .colab-df-quickchart {\n",
              "      --bg-color: #E8F0FE;\n",
              "      --fill-color: #1967D2;\n",
              "      --hover-bg-color: #E2EBFA;\n",
              "      --hover-fill-color: #174EA6;\n",
              "      --disabled-fill-color: #AAA;\n",
              "      --disabled-bg-color: #DDD;\n",
              "  }\n",
              "\n",
              "  [theme=dark] .colab-df-quickchart {\n",
              "      --bg-color: #3B4455;\n",
              "      --fill-color: #D2E3FC;\n",
              "      --hover-bg-color: #434B5C;\n",
              "      --hover-fill-color: #FFFFFF;\n",
              "      --disabled-bg-color: #3B4455;\n",
              "      --disabled-fill-color: #666;\n",
              "  }\n",
              "\n",
              "  .colab-df-quickchart {\n",
              "    background-color: var(--bg-color);\n",
              "    border: none;\n",
              "    border-radius: 50%;\n",
              "    cursor: pointer;\n",
              "    display: none;\n",
              "    fill: var(--fill-color);\n",
              "    height: 32px;\n",
              "    padding: 0;\n",
              "    width: 32px;\n",
              "  }\n",
              "\n",
              "  .colab-df-quickchart:hover {\n",
              "    background-color: var(--hover-bg-color);\n",
              "    box-shadow: 0 1px 2px rgba(60, 64, 67, 0.3), 0 1px 3px 1px rgba(60, 64, 67, 0.15);\n",
              "    fill: var(--button-hover-fill-color);\n",
              "  }\n",
              "\n",
              "  .colab-df-quickchart-complete:disabled,\n",
              "  .colab-df-quickchart-complete:disabled:hover {\n",
              "    background-color: var(--disabled-bg-color);\n",
              "    fill: var(--disabled-fill-color);\n",
              "    box-shadow: none;\n",
              "  }\n",
              "\n",
              "  .colab-df-spinner {\n",
              "    border: 2px solid var(--fill-color);\n",
              "    border-color: transparent;\n",
              "    border-bottom-color: var(--fill-color);\n",
              "    animation:\n",
              "      spin 1s steps(1) infinite;\n",
              "  }\n",
              "\n",
              "  @keyframes spin {\n",
              "    0% {\n",
              "      border-color: transparent;\n",
              "      border-bottom-color: var(--fill-color);\n",
              "      border-left-color: var(--fill-color);\n",
              "    }\n",
              "    20% {\n",
              "      border-color: transparent;\n",
              "      border-left-color: var(--fill-color);\n",
              "      border-top-color: var(--fill-color);\n",
              "    }\n",
              "    30% {\n",
              "      border-color: transparent;\n",
              "      border-left-color: var(--fill-color);\n",
              "      border-top-color: var(--fill-color);\n",
              "      border-right-color: var(--fill-color);\n",
              "    }\n",
              "    40% {\n",
              "      border-color: transparent;\n",
              "      border-right-color: var(--fill-color);\n",
              "      border-top-color: var(--fill-color);\n",
              "    }\n",
              "    60% {\n",
              "      border-color: transparent;\n",
              "      border-right-color: var(--fill-color);\n",
              "    }\n",
              "    80% {\n",
              "      border-color: transparent;\n",
              "      border-right-color: var(--fill-color);\n",
              "      border-bottom-color: var(--fill-color);\n",
              "    }\n",
              "    90% {\n",
              "      border-color: transparent;\n",
              "      border-bottom-color: var(--fill-color);\n",
              "    }\n",
              "  }\n",
              "</style>\n",
              "\n",
              "  <script>\n",
              "    async function quickchart(key) {\n",
              "      const quickchartButtonEl =\n",
              "        document.querySelector('#' + key + ' button');\n",
              "      quickchartButtonEl.disabled = true;  // To prevent multiple clicks.\n",
              "      quickchartButtonEl.classList.add('colab-df-spinner');\n",
              "      try {\n",
              "        const charts = await google.colab.kernel.invokeFunction(\n",
              "            'suggestCharts', [key], {});\n",
              "      } catch (error) {\n",
              "        console.error('Error during call to suggestCharts:', error);\n",
              "      }\n",
              "      quickchartButtonEl.classList.remove('colab-df-spinner');\n",
              "      quickchartButtonEl.classList.add('colab-df-quickchart-complete');\n",
              "    }\n",
              "    (() => {\n",
              "      let quickchartButtonEl =\n",
              "        document.querySelector('#df-6d14c7e0-104d-481a-a01a-b12add5197dc button');\n",
              "      quickchartButtonEl.style.display =\n",
              "        google.colab.kernel.accessAllowed ? 'block' : 'none';\n",
              "    })();\n",
              "  </script>\n",
              "</div>\n",
              "    </div>\n",
              "  </div>\n"
            ]
          },
          "metadata": {},
          "execution_count": 4
        }
      ]
    },
    {
      "cell_type": "code",
      "source": [
        "# Menampilkan 5 baris terbawah dari dataset\n",
        "data.tail(5)"
      ],
      "metadata": {
        "colab": {
          "base_uri": "https://localhost:8080/",
          "height": 206
        },
        "id": "cN_XGESJiPhz",
        "outputId": "329e12b3-766a-4d09-9993-4d107eccc209"
      },
      "execution_count": null,
      "outputs": [
        {
          "output_type": "execute_result",
          "data": {
            "text/plain": [
              "       InvoiceNo StockCode                          Description  Quantity  \\\n",
              "459973    575889     23084                   RABBIT NIGHT LIGHT         4   \n",
              "459974    575889     22791         T-LIGHT GLASS FLUTED ANTIQUE        12   \n",
              "459975    575889     23023  RIDGED BONNE JAM JAR T-LIGHT HOLDER        12   \n",
              "459976    575889     22080               RIBBON REEL POLKADOTS          5   \n",
              "459977    575889     20750             RED RETROSPOT MINI CASES         8   \n",
              "\n",
              "             InvoiceDate  UnitPrice  CustomerID         Country  \n",
              "459973  11/11/2011 14:09       2.08     16433.0  United Kingdom  \n",
              "459974  11/11/2011 14:09       1.25     16433.0  United Kingdom  \n",
              "459975  11/11/2011 14:09       1.65     16433.0  United Kingdom  \n",
              "459976  11/11/2011 14:09       1.65     16433.0  United Kingdom  \n",
              "459977  11/11/2011 14:09       7.95     16433.0  United Kingdom  "
            ],
            "text/html": [
              "\n",
              "  <div id=\"df-ccc6b8fe-b190-4f59-8ddb-3b976fb84b13\" class=\"colab-df-container\">\n",
              "    <div>\n",
              "<style scoped>\n",
              "    .dataframe tbody tr th:only-of-type {\n",
              "        vertical-align: middle;\n",
              "    }\n",
              "\n",
              "    .dataframe tbody tr th {\n",
              "        vertical-align: top;\n",
              "    }\n",
              "\n",
              "    .dataframe thead th {\n",
              "        text-align: right;\n",
              "    }\n",
              "</style>\n",
              "<table border=\"1\" class=\"dataframe\">\n",
              "  <thead>\n",
              "    <tr style=\"text-align: right;\">\n",
              "      <th></th>\n",
              "      <th>InvoiceNo</th>\n",
              "      <th>StockCode</th>\n",
              "      <th>Description</th>\n",
              "      <th>Quantity</th>\n",
              "      <th>InvoiceDate</th>\n",
              "      <th>UnitPrice</th>\n",
              "      <th>CustomerID</th>\n",
              "      <th>Country</th>\n",
              "    </tr>\n",
              "  </thead>\n",
              "  <tbody>\n",
              "    <tr>\n",
              "      <th>459973</th>\n",
              "      <td>575889</td>\n",
              "      <td>23084</td>\n",
              "      <td>RABBIT NIGHT LIGHT</td>\n",
              "      <td>4</td>\n",
              "      <td>11/11/2011 14:09</td>\n",
              "      <td>2.08</td>\n",
              "      <td>16433.0</td>\n",
              "      <td>United Kingdom</td>\n",
              "    </tr>\n",
              "    <tr>\n",
              "      <th>459974</th>\n",
              "      <td>575889</td>\n",
              "      <td>22791</td>\n",
              "      <td>T-LIGHT GLASS FLUTED ANTIQUE</td>\n",
              "      <td>12</td>\n",
              "      <td>11/11/2011 14:09</td>\n",
              "      <td>1.25</td>\n",
              "      <td>16433.0</td>\n",
              "      <td>United Kingdom</td>\n",
              "    </tr>\n",
              "    <tr>\n",
              "      <th>459975</th>\n",
              "      <td>575889</td>\n",
              "      <td>23023</td>\n",
              "      <td>RIDGED BONNE JAM JAR T-LIGHT HOLDER</td>\n",
              "      <td>12</td>\n",
              "      <td>11/11/2011 14:09</td>\n",
              "      <td>1.65</td>\n",
              "      <td>16433.0</td>\n",
              "      <td>United Kingdom</td>\n",
              "    </tr>\n",
              "    <tr>\n",
              "      <th>459976</th>\n",
              "      <td>575889</td>\n",
              "      <td>22080</td>\n",
              "      <td>RIBBON REEL POLKADOTS</td>\n",
              "      <td>5</td>\n",
              "      <td>11/11/2011 14:09</td>\n",
              "      <td>1.65</td>\n",
              "      <td>16433.0</td>\n",
              "      <td>United Kingdom</td>\n",
              "    </tr>\n",
              "    <tr>\n",
              "      <th>459977</th>\n",
              "      <td>575889</td>\n",
              "      <td>20750</td>\n",
              "      <td>RED RETROSPOT MINI CASES</td>\n",
              "      <td>8</td>\n",
              "      <td>11/11/2011 14:09</td>\n",
              "      <td>7.95</td>\n",
              "      <td>16433.0</td>\n",
              "      <td>United Kingdom</td>\n",
              "    </tr>\n",
              "  </tbody>\n",
              "</table>\n",
              "</div>\n",
              "    <div class=\"colab-df-buttons\">\n",
              "\n",
              "  <div class=\"colab-df-container\">\n",
              "    <button class=\"colab-df-convert\" onclick=\"convertToInteractive('df-ccc6b8fe-b190-4f59-8ddb-3b976fb84b13')\"\n",
              "            title=\"Convert this dataframe to an interactive table.\"\n",
              "            style=\"display:none;\">\n",
              "\n",
              "  <svg xmlns=\"http://www.w3.org/2000/svg\" height=\"24px\" viewBox=\"0 -960 960 960\">\n",
              "    <path d=\"M120-120v-720h720v720H120Zm60-500h600v-160H180v160Zm220 220h160v-160H400v160Zm0 220h160v-160H400v160ZM180-400h160v-160H180v160Zm440 0h160v-160H620v160ZM180-180h160v-160H180v160Zm440 0h160v-160H620v160Z\"/>\n",
              "  </svg>\n",
              "    </button>\n",
              "\n",
              "  <style>\n",
              "    .colab-df-container {\n",
              "      display:flex;\n",
              "      gap: 12px;\n",
              "    }\n",
              "\n",
              "    .colab-df-convert {\n",
              "      background-color: #E8F0FE;\n",
              "      border: none;\n",
              "      border-radius: 50%;\n",
              "      cursor: pointer;\n",
              "      display: none;\n",
              "      fill: #1967D2;\n",
              "      height: 32px;\n",
              "      padding: 0 0 0 0;\n",
              "      width: 32px;\n",
              "    }\n",
              "\n",
              "    .colab-df-convert:hover {\n",
              "      background-color: #E2EBFA;\n",
              "      box-shadow: 0px 1px 2px rgba(60, 64, 67, 0.3), 0px 1px 3px 1px rgba(60, 64, 67, 0.15);\n",
              "      fill: #174EA6;\n",
              "    }\n",
              "\n",
              "    .colab-df-buttons div {\n",
              "      margin-bottom: 4px;\n",
              "    }\n",
              "\n",
              "    [theme=dark] .colab-df-convert {\n",
              "      background-color: #3B4455;\n",
              "      fill: #D2E3FC;\n",
              "    }\n",
              "\n",
              "    [theme=dark] .colab-df-convert:hover {\n",
              "      background-color: #434B5C;\n",
              "      box-shadow: 0px 1px 3px 1px rgba(0, 0, 0, 0.15);\n",
              "      filter: drop-shadow(0px 1px 2px rgba(0, 0, 0, 0.3));\n",
              "      fill: #FFFFFF;\n",
              "    }\n",
              "  </style>\n",
              "\n",
              "    <script>\n",
              "      const buttonEl =\n",
              "        document.querySelector('#df-ccc6b8fe-b190-4f59-8ddb-3b976fb84b13 button.colab-df-convert');\n",
              "      buttonEl.style.display =\n",
              "        google.colab.kernel.accessAllowed ? 'block' : 'none';\n",
              "\n",
              "      async function convertToInteractive(key) {\n",
              "        const element = document.querySelector('#df-ccc6b8fe-b190-4f59-8ddb-3b976fb84b13');\n",
              "        const dataTable =\n",
              "          await google.colab.kernel.invokeFunction('convertToInteractive',\n",
              "                                                    [key], {});\n",
              "        if (!dataTable) return;\n",
              "\n",
              "        const docLinkHtml = 'Like what you see? Visit the ' +\n",
              "          '<a target=\"_blank\" href=https://colab.research.google.com/notebooks/data_table.ipynb>data table notebook</a>'\n",
              "          + ' to learn more about interactive tables.';\n",
              "        element.innerHTML = '';\n",
              "        dataTable['output_type'] = 'display_data';\n",
              "        await google.colab.output.renderOutput(dataTable, element);\n",
              "        const docLink = document.createElement('div');\n",
              "        docLink.innerHTML = docLinkHtml;\n",
              "        element.appendChild(docLink);\n",
              "      }\n",
              "    </script>\n",
              "  </div>\n",
              "\n",
              "\n",
              "<div id=\"df-8ba610ee-cc12-4ae9-8052-a4d8eaa6ddb6\">\n",
              "  <button class=\"colab-df-quickchart\" onclick=\"quickchart('df-8ba610ee-cc12-4ae9-8052-a4d8eaa6ddb6')\"\n",
              "            title=\"Suggest charts.\"\n",
              "            style=\"display:none;\">\n",
              "\n",
              "<svg xmlns=\"http://www.w3.org/2000/svg\" height=\"24px\"viewBox=\"0 0 24 24\"\n",
              "     width=\"24px\">\n",
              "    <g>\n",
              "        <path d=\"M19 3H5c-1.1 0-2 .9-2 2v14c0 1.1.9 2 2 2h14c1.1 0 2-.9 2-2V5c0-1.1-.9-2-2-2zM9 17H7v-7h2v7zm4 0h-2V7h2v10zm4 0h-2v-4h2v4z\"/>\n",
              "    </g>\n",
              "</svg>\n",
              "  </button>\n",
              "\n",
              "<style>\n",
              "  .colab-df-quickchart {\n",
              "      --bg-color: #E8F0FE;\n",
              "      --fill-color: #1967D2;\n",
              "      --hover-bg-color: #E2EBFA;\n",
              "      --hover-fill-color: #174EA6;\n",
              "      --disabled-fill-color: #AAA;\n",
              "      --disabled-bg-color: #DDD;\n",
              "  }\n",
              "\n",
              "  [theme=dark] .colab-df-quickchart {\n",
              "      --bg-color: #3B4455;\n",
              "      --fill-color: #D2E3FC;\n",
              "      --hover-bg-color: #434B5C;\n",
              "      --hover-fill-color: #FFFFFF;\n",
              "      --disabled-bg-color: #3B4455;\n",
              "      --disabled-fill-color: #666;\n",
              "  }\n",
              "\n",
              "  .colab-df-quickchart {\n",
              "    background-color: var(--bg-color);\n",
              "    border: none;\n",
              "    border-radius: 50%;\n",
              "    cursor: pointer;\n",
              "    display: none;\n",
              "    fill: var(--fill-color);\n",
              "    height: 32px;\n",
              "    padding: 0;\n",
              "    width: 32px;\n",
              "  }\n",
              "\n",
              "  .colab-df-quickchart:hover {\n",
              "    background-color: var(--hover-bg-color);\n",
              "    box-shadow: 0 1px 2px rgba(60, 64, 67, 0.3), 0 1px 3px 1px rgba(60, 64, 67, 0.15);\n",
              "    fill: var(--button-hover-fill-color);\n",
              "  }\n",
              "\n",
              "  .colab-df-quickchart-complete:disabled,\n",
              "  .colab-df-quickchart-complete:disabled:hover {\n",
              "    background-color: var(--disabled-bg-color);\n",
              "    fill: var(--disabled-fill-color);\n",
              "    box-shadow: none;\n",
              "  }\n",
              "\n",
              "  .colab-df-spinner {\n",
              "    border: 2px solid var(--fill-color);\n",
              "    border-color: transparent;\n",
              "    border-bottom-color: var(--fill-color);\n",
              "    animation:\n",
              "      spin 1s steps(1) infinite;\n",
              "  }\n",
              "\n",
              "  @keyframes spin {\n",
              "    0% {\n",
              "      border-color: transparent;\n",
              "      border-bottom-color: var(--fill-color);\n",
              "      border-left-color: var(--fill-color);\n",
              "    }\n",
              "    20% {\n",
              "      border-color: transparent;\n",
              "      border-left-color: var(--fill-color);\n",
              "      border-top-color: var(--fill-color);\n",
              "    }\n",
              "    30% {\n",
              "      border-color: transparent;\n",
              "      border-left-color: var(--fill-color);\n",
              "      border-top-color: var(--fill-color);\n",
              "      border-right-color: var(--fill-color);\n",
              "    }\n",
              "    40% {\n",
              "      border-color: transparent;\n",
              "      border-right-color: var(--fill-color);\n",
              "      border-top-color: var(--fill-color);\n",
              "    }\n",
              "    60% {\n",
              "      border-color: transparent;\n",
              "      border-right-color: var(--fill-color);\n",
              "    }\n",
              "    80% {\n",
              "      border-color: transparent;\n",
              "      border-right-color: var(--fill-color);\n",
              "      border-bottom-color: var(--fill-color);\n",
              "    }\n",
              "    90% {\n",
              "      border-color: transparent;\n",
              "      border-bottom-color: var(--fill-color);\n",
              "    }\n",
              "  }\n",
              "</style>\n",
              "\n",
              "  <script>\n",
              "    async function quickchart(key) {\n",
              "      const quickchartButtonEl =\n",
              "        document.querySelector('#' + key + ' button');\n",
              "      quickchartButtonEl.disabled = true;  // To prevent multiple clicks.\n",
              "      quickchartButtonEl.classList.add('colab-df-spinner');\n",
              "      try {\n",
              "        const charts = await google.colab.kernel.invokeFunction(\n",
              "            'suggestCharts', [key], {});\n",
              "      } catch (error) {\n",
              "        console.error('Error during call to suggestCharts:', error);\n",
              "      }\n",
              "      quickchartButtonEl.classList.remove('colab-df-spinner');\n",
              "      quickchartButtonEl.classList.add('colab-df-quickchart-complete');\n",
              "    }\n",
              "    (() => {\n",
              "      let quickchartButtonEl =\n",
              "        document.querySelector('#df-8ba610ee-cc12-4ae9-8052-a4d8eaa6ddb6 button');\n",
              "      quickchartButtonEl.style.display =\n",
              "        google.colab.kernel.accessAllowed ? 'block' : 'none';\n",
              "    })();\n",
              "  </script>\n",
              "</div>\n",
              "    </div>\n",
              "  </div>\n"
            ]
          },
          "metadata": {},
          "execution_count": 5
        }
      ]
    },
    {
      "cell_type": "code",
      "source": [
        "# Jumlah baris dan kolom dataset\n",
        "data.shape"
      ],
      "metadata": {
        "colab": {
          "base_uri": "https://localhost:8080/"
        },
        "id": "Tj8q1wPniSfr",
        "outputId": "1f71ce35-db34-4776-a2b0-4efe7e386450"
      },
      "execution_count": null,
      "outputs": [
        {
          "output_type": "execute_result",
          "data": {
            "text/plain": [
              "(459978, 8)"
            ]
          },
          "metadata": {},
          "execution_count": 6
        }
      ]
    },
    {
      "cell_type": "markdown",
      "source": [
        "Dari informasi output di atas, kita dapat mengetahui terdapat 459978 baris dan 8 kolom dalam dataset tersebut."
      ],
      "metadata": {
        "id": "E3fzayL3oWQU"
      }
    },
    {
      "cell_type": "markdown",
      "source": [
        "## Data Type\n",
        "\n",
        "> Pada section ini akan melihat tipe data dari masing-masing kolom"
      ],
      "metadata": {
        "id": "ZIk0rg9HlOT3"
      }
    },
    {
      "cell_type": "code",
      "source": [
        "# Melihat tipe data dari dataset\n",
        "data.dtypes"
      ],
      "metadata": {
        "colab": {
          "base_uri": "https://localhost:8080/"
        },
        "id": "6-M_IzdqlUfI",
        "outputId": "c23a209e-e29a-47da-fe5d-9feda300c1b4"
      },
      "execution_count": null,
      "outputs": [
        {
          "output_type": "execute_result",
          "data": {
            "text/plain": [
              "InvoiceNo       object\n",
              "StockCode       object\n",
              "Description     object\n",
              "Quantity         int64\n",
              "InvoiceDate     object\n",
              "UnitPrice      float64\n",
              "CustomerID     float64\n",
              "Country         object\n",
              "dtype: object"
            ]
          },
          "metadata": {},
          "execution_count": 7
        }
      ]
    },
    {
      "cell_type": "markdown",
      "source": [
        "Tipe data kolom 'InvoiceDate' sebaiknya diubah menjadi datetime. Hal ini akan memudahkan dalam melakukan operasi terkait tanggal dan waktu, seperti pengelompokkan berdasarkan hari, bulan, atau tahun.\n",
        "\n",
        "Sehingga dalam hal tersebut akan dilakukan di Query Power Bi.\n",
        "\n",
        "Jika dalam Python Pragramming maka code yang digunakan untuk mengubah menjadi datetime adalah\n",
        "\n",
        "\n",
        "```\n",
        "data['InvoiceDate'] = pd.to_datetime(data['InvoiceDate'])\n",
        "```\n",
        "\n"
      ],
      "metadata": {
        "id": "QkngFAEvpFhr"
      }
    },
    {
      "cell_type": "code",
      "source": [
        "# Melihat list kolom yang memiliki nilai sebagai kategori\n",
        "cat_cols = list(data.select_dtypes(include='object'))\n",
        "cat_cols"
      ],
      "metadata": {
        "colab": {
          "base_uri": "https://localhost:8080/"
        },
        "id": "5Fw0gg5mlCzz",
        "outputId": "668b2228-3ed5-457d-cbcb-de6b94ea5ba4"
      },
      "execution_count": null,
      "outputs": [
        {
          "output_type": "execute_result",
          "data": {
            "text/plain": [
              "['InvoiceNo', 'StockCode', 'Description', 'InvoiceDate', 'Country']"
            ]
          },
          "metadata": {},
          "execution_count": 8
        }
      ]
    },
    {
      "cell_type": "code",
      "source": [
        "# Overview dari kolom kategori\n",
        "for i in cat_cols:\n",
        "  print('Column : ',i)\n",
        "  print('Total unique labels: ', data[i].nunique())\n",
        "  print(data[i].value_counts())\n",
        "  print('-' * 40)"
      ],
      "metadata": {
        "colab": {
          "base_uri": "https://localhost:8080/"
        },
        "id": "UOjicQSalFGC",
        "outputId": "398083cb-4269-4a30-9b00-96dc228ca957"
      },
      "execution_count": null,
      "outputs": [
        {
          "output_type": "stream",
          "name": "stdout",
          "text": [
            "Column :  InvoiceNo\n",
            "Total unique labels:  22665\n",
            "573585     1114\n",
            "558475      705\n",
            "537434      675\n",
            "538071      652\n",
            "538349      620\n",
            "           ... \n",
            "C543780       1\n",
            "543781        1\n",
            "543782        1\n",
            "543783        1\n",
            "545427        1\n",
            "Name: InvoiceNo, Length: 22665, dtype: int64\n",
            "----------------------------------------\n",
            "Column :  StockCode\n",
            "Total unique labels:  4035\n",
            "85123A    2070\n",
            "22423     1995\n",
            "85099B    1945\n",
            "47566     1642\n",
            "20725     1487\n",
            "          ... \n",
            "37503        1\n",
            "90060B       1\n",
            "84620        1\n",
            "23059        1\n",
            "23602        1\n",
            "Name: StockCode, Length: 4035, dtype: int64\n",
            "----------------------------------------\n",
            "Column :  Description\n",
            "Total unique labels:  4159\n",
            "WHITE HANGING HEART T-LIGHT HOLDER    2123\n",
            "REGENCY CAKESTAND 3 TIER              1992\n",
            "JUMBO BAG RED RETROSPOT               1945\n",
            "PARTY BUNTING                         1642\n",
            "LUNCH BAG RED RETROSPOT               1486\n",
            "                                      ... \n",
            "MINT DINER CLOCK                         1\n",
            "PINK CRYSTAL GUITAR PHONE CHARM          1\n",
            "MIA                                      1\n",
            "PURPLE/TURQ FLOWERS HANDBAG              1\n",
            "SET 10 CARDS 3 WISE MEN 17107            1\n",
            "Name: Description, Length: 4159, dtype: int64\n",
            "----------------------------------------\n",
            "Column :  InvoiceDate\n",
            "Total unique labels:  20434\n",
            "10/31/2011 14:41    1114\n",
            "6/29/2011 15:58      705\n",
            "12/6/2010 16:57      675\n",
            "12/9/2010 14:09      652\n",
            "12/10/2010 14:59     621\n",
            "                    ... \n",
            "7/7/2011 17:16         1\n",
            "1/14/2011 9:54         1\n",
            "9/30/2011 11:58        1\n",
            "9/30/2011 11:57        1\n",
            "8/18/2011 6:21         1\n",
            "Name: InvoiceDate, Length: 20434, dtype: int64\n",
            "----------------------------------------\n",
            "Column :  Country\n",
            "Total unique labels:  38\n",
            "United Kingdom          419085\n",
            "Germany                   8317\n",
            "France                    7321\n",
            "EIRE                      7059\n",
            "Spain                     2310\n",
            "Netherlands               2194\n",
            "Switzerland               1920\n",
            "Belgium                   1847\n",
            "Portugal                  1304\n",
            "Australia                 1224\n",
            "Norway                     861\n",
            "Channel Islands            741\n",
            "Finland                    620\n",
            "Italy                      605\n",
            "Cyprus                     518\n",
            "Sweden                     433\n",
            "Unspecified                393\n",
            "Poland                     338\n",
            "Austria                    324\n",
            "Japan                      318\n",
            "Israel                     297\n",
            "Denmark                    295\n",
            "Hong Kong                  286\n",
            "USA                        248\n",
            "Singapore                  229\n",
            "Iceland                    171\n",
            "Canada                     151\n",
            "Greece                     110\n",
            "Malta                      104\n",
            "United Arab Emirates        68\n",
            "European Community          61\n",
            "RSA                         58\n",
            "Lebanon                     45\n",
            "Lithuania                   35\n",
            "Brazil                      32\n",
            "Czech Republic              27\n",
            "Bahrain                     19\n",
            "Saudi Arabia                10\n",
            "Name: Country, dtype: int64\n",
            "----------------------------------------\n"
          ]
        }
      ]
    },
    {
      "cell_type": "code",
      "source": [
        "# Melihat list kolom yang memiliki nilai sebagai numerikal\n",
        "num_cols = data.describe().columns.tolist()\n",
        "num_cols"
      ],
      "metadata": {
        "colab": {
          "base_uri": "https://localhost:8080/"
        },
        "id": "9YKDpQCelJDT",
        "outputId": "8b1e99e8-2254-4d82-f77c-116d95f04ee3"
      },
      "execution_count": null,
      "outputs": [
        {
          "output_type": "execute_result",
          "data": {
            "text/plain": [
              "['Quantity', 'UnitPrice', 'CustomerID']"
            ]
          },
          "metadata": {},
          "execution_count": 10
        }
      ]
    },
    {
      "cell_type": "markdown",
      "source": [
        "## Missing Value\n",
        "\n",
        "> Pada section ini akan meninjau nilai yang hilang dari suatu kolom maupun baris."
      ],
      "metadata": {
        "id": "WmAkLiuxlwNf"
      }
    },
    {
      "cell_type": "code",
      "source": [
        "# Melihat non-null dan tipe data dari dataset\n",
        "data.info()"
      ],
      "metadata": {
        "colab": {
          "base_uri": "https://localhost:8080/"
        },
        "id": "txkZtm-2l1z-",
        "outputId": "3c23120c-cbc2-42d3-9f08-5b748ab3dc25"
      },
      "execution_count": null,
      "outputs": [
        {
          "output_type": "stream",
          "name": "stdout",
          "text": [
            "<class 'pandas.core.frame.DataFrame'>\n",
            "RangeIndex: 459978 entries, 0 to 459977\n",
            "Data columns (total 8 columns):\n",
            " #   Column       Non-Null Count   Dtype  \n",
            "---  ------       --------------   -----  \n",
            " 0   InvoiceNo    459978 non-null  object \n",
            " 1   StockCode    459978 non-null  object \n",
            " 2   Description  458600 non-null  object \n",
            " 3   Quantity     459978 non-null  int64  \n",
            " 4   InvoiceDate  459978 non-null  object \n",
            " 5   UnitPrice    459978 non-null  float64\n",
            " 6   CustomerID   346450 non-null  float64\n",
            " 7   Country      459978 non-null  object \n",
            "dtypes: float64(2), int64(1), object(5)\n",
            "memory usage: 28.1+ MB\n"
          ]
        }
      ]
    },
    {
      "cell_type": "code",
      "source": [
        "# Melihat jumlah missing value\n",
        "data.isnull().sum()"
      ],
      "metadata": {
        "colab": {
          "base_uri": "https://localhost:8080/"
        },
        "id": "5oV1xwMOl_Ds",
        "outputId": "bc612a5c-524e-4661-b467-b18ff8e6e66d"
      },
      "execution_count": null,
      "outputs": [
        {
          "output_type": "execute_result",
          "data": {
            "text/plain": [
              "InvoiceNo           0\n",
              "StockCode           0\n",
              "Description      1378\n",
              "Quantity            0\n",
              "InvoiceDate         0\n",
              "UnitPrice           0\n",
              "CustomerID     113528\n",
              "Country             0\n",
              "dtype: int64"
            ]
          },
          "metadata": {},
          "execution_count": 12
        }
      ]
    },
    {
      "cell_type": "markdown",
      "source": [
        "Dalam kolom Description terdapat 1378 nilai yang hilang (missing value), sementara untuk kolom CustomerID terdapat 113528 nilai yang hilang. Penting untuk menindaklanjuti nilai yang hilang ini karena keberadaannya dapat memengaruhi akurasi hasil analisis. Mengabaikan nilai yang hilang dapat menyebabkan bias dalam analisis.\n",
        "\n",
        "Untuk menangani masalah ini, dalam Power BI dapat menggunakan Query Editor untuk mengganti nilai yang hilang dalam kolom 'Description' dengan 'UNKNOWN' dan dalam kolom 'CustomerID' dengan nilai yang didasarkan pada 'InvoiceNo'.\n",
        "\n",
        "Dalam Python, dapat menggunakan kode seperti berikut ini untuk melakukan hal yang sama:\n",
        "\n",
        "```\n",
        "data['Description'].fillna('UNKNOWN', inplace=True)\n",
        "\n",
        "data['CustomerID'].fillna(data['InvoiceNo'], inplace=True)\n",
        "```\n",
        "\n"
      ],
      "metadata": {
        "id": "n_ljKGiire1L"
      }
    },
    {
      "cell_type": "code",
      "source": [
        "missing_description_rows = data[data['Description'].isnull()]\n",
        "missing_customer_id_rows = data[data['CustomerID'].isnull()]\n",
        "\n",
        "# Menampilkan baris-baris yang memiliki nilai yang hilang (missing) dalam kolom 'Description' dan 'CustomerID'\n",
        "print(\"Baris dengan nilai yang hilang (missing value) pada kolom 'Description':\")\n",
        "print(missing_description_rows.index)\n",
        "\n",
        "print(\"\\nBaris dengan nilai yang hilang (missing value) pada kolom 'CustomerID':\")\n",
        "print(missing_customer_id_rows.index)"
      ],
      "metadata": {
        "colab": {
          "base_uri": "https://localhost:8080/"
        },
        "id": "aOjmZl6MmAD1",
        "outputId": "2ebc1c6d-0fe1-4704-cfae-d6f9510a1b4d"
      },
      "execution_count": null,
      "outputs": [
        {
          "output_type": "stream",
          "name": "stdout",
          "text": [
            "Baris dengan nilai yang hilang (missing value) pada kolom 'Description':\n",
            "Int64Index([   622,   1970,   1971,   1972,   1987,   1988,   2024,   2025,\n",
            "              2026,   2406,\n",
            "            ...\n",
            "            440202, 440210, 440212, 446550, 446551, 452781, 453963, 453998,\n",
            "            453999, 454169],\n",
            "           dtype='int64', length=1378)\n",
            "\n",
            "Baris dengan nilai yang hilang (missing value) pada kolom 'CustomerID':\n",
            "Int64Index([   622,   1443,   1444,   1445,   1446,   1447,   1448,   1449,\n",
            "              1450,   1451,\n",
            "            ...\n",
            "            459772, 459773, 459774, 459775, 459776, 459777, 459778, 459779,\n",
            "            459780, 459836],\n",
            "           dtype='int64', length=113528)\n"
          ]
        }
      ]
    },
    {
      "cell_type": "markdown",
      "source": [
        "## Data Duplicated\n",
        "\n",
        "> Pada section ini akan melihat jumlah data yang sama"
      ],
      "metadata": {
        "id": "1zZKaJUVmXlE"
      }
    },
    {
      "cell_type": "code",
      "source": [
        "# Melihat jumlah duplikat dataset\n",
        "data.duplicated().sum()"
      ],
      "metadata": {
        "colab": {
          "base_uri": "https://localhost:8080/"
        },
        "id": "dIKOPVM_mZ1u",
        "outputId": "d52064d2-b187-44ee-e14c-93b18c2d2bd9"
      },
      "execution_count": null,
      "outputs": [
        {
          "output_type": "execute_result",
          "data": {
            "text/plain": [
              "4056"
            ]
          },
          "metadata": {},
          "execution_count": 14
        }
      ]
    },
    {
      "cell_type": "markdown",
      "source": [
        "Dalam dataset tersebut terdapat 4056 baris yang sama. Dalam mengatasi data yang terduplikasi penting karena dapat mengakibatkan perhitungan dan analisis yang tidak akurat, dapat menghabiskan sumber daya komputasi dan penyimpanan, serta mengganggu konsistensi basis data.\n",
        "\n",
        "Untuk menangani kasus ini, dalam Power Bi dapat di drop.\n",
        "\n",
        "Sedangkan dalam kode python programming adalah\n",
        "\n",
        "```\n",
        "data = data.drop_duplicates()\n",
        "```\n",
        "\n"
      ],
      "metadata": {
        "id": "khw_2Ynmu6sB"
      }
    },
    {
      "cell_type": "markdown",
      "source": [
        "## Menambah kolom baru\n",
        "\n",
        "> Pada section ini, saya akan menambahkan kolom baru dengan nama 'Actual' yang berisi nilai penjualan yang merupakan perkalian antara harga satuan 'UnitPrice' dan jumlah yang dibeli 'Quantity'\n",
        "\n",
        "> Selain itu, saya juga telah menyertakan cara penanganan kondisi yang berbeda antara Power BI dan Python dengan contoh yang sesuai. Jadi, baik dalam Power BI menggunakan rumus\n",
        "\n",
        "> `if [CustomerID] <> null then [CustomerID] else [InvoiceNo]`\n",
        "\n",
        "> Maupun dalam Python menggunakan kode\n",
        "\n",
        "> `data['Actual'] = np.where(data['CustomerID'].notnull(), data['CustomerID'], data['InvoiceNo'])`\n",
        "\n",
        "> keduanya menghasilkan kolom baru 'Actual' dengan logika yang sesuai.\n",
        "\n",
        "\n",
        "\n"
      ],
      "metadata": {
        "id": "hcrC1-Ltraqe"
      }
    }
  ]
}